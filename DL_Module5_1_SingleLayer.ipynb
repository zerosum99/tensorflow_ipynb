{
 "cells": [
  {
   "cell_type": "markdown",
   "metadata": {},
   "source": [
    "# Neural Network - Single Layer"
   ]
  },
  {
   "cell_type": "code",
   "execution_count": 1,
   "metadata": {},
   "outputs": [
    {
     "name": "stdout",
     "output_type": "stream",
     "text": [
      "C:\\Users\\dahlmoon\\Documents\\GitHub\\tensorflow_ipynb\n"
     ]
    }
   ],
   "source": [
    "!cd"
   ]
  },
  {
   "cell_type": "code",
   "execution_count": 2,
   "metadata": {},
   "outputs": [],
   "source": [
    "import numpy as np\n",
    "import matplotlib.pyplot as plt\n",
    "import random\n",
    "import tensorflow as tf"
   ]
  },
  {
   "cell_type": "markdown",
   "metadata": {},
   "source": [
    "-------------------------------------------------------------------\n",
    "## 1. Data (mnist)"
   ]
  },
  {
   "cell_type": "code",
   "execution_count": 4,
   "metadata": {},
   "outputs": [
    {
     "name": "stdout",
     "output_type": "stream",
     "text": [
      "WARNING:tensorflow:From <ipython-input-4-57f3482e75ca>:2: read_data_sets (from tensorflow.contrib.learn.python.learn.datasets.mnist) is deprecated and will be removed in a future version.\n",
      "Instructions for updating:\n",
      "Please use alternatives such as official/mnist/dataset.py from tensorflow/models.\n",
      "WARNING:tensorflow:From C:\\Users\\dahlmoon\\AppData\\Roaming\\Python\\Python36\\site-packages\\tensorflow\\contrib\\learn\\python\\learn\\datasets\\mnist.py:260: maybe_download (from tensorflow.contrib.learn.python.learn.datasets.base) is deprecated and will be removed in a future version.\n",
      "Instructions for updating:\n",
      "Please write your own downloading logic.\n",
      "WARNING:tensorflow:From C:\\Users\\dahlmoon\\AppData\\Roaming\\Python\\Python36\\site-packages\\tensorflow\\contrib\\learn\\python\\learn\\datasets\\mnist.py:262: extract_images (from tensorflow.contrib.learn.python.learn.datasets.mnist) is deprecated and will be removed in a future version.\n",
      "Instructions for updating:\n",
      "Please use tf.data to implement this functionality.\n",
      "Extracting C:\\Users\\dahlmoon\\Documents\\GitHub\\tensorflow_ipynb\\MNIST_data\\train-images-idx3-ubyte.gz\n",
      "WARNING:tensorflow:From C:\\Users\\dahlmoon\\AppData\\Roaming\\Python\\Python36\\site-packages\\tensorflow\\contrib\\learn\\python\\learn\\datasets\\mnist.py:267: extract_labels (from tensorflow.contrib.learn.python.learn.datasets.mnist) is deprecated and will be removed in a future version.\n",
      "Instructions for updating:\n",
      "Please use tf.data to implement this functionality.\n",
      "Extracting C:\\Users\\dahlmoon\\Documents\\GitHub\\tensorflow_ipynb\\MNIST_data\\train-labels-idx1-ubyte.gz\n",
      "WARNING:tensorflow:From C:\\Users\\dahlmoon\\AppData\\Roaming\\Python\\Python36\\site-packages\\tensorflow\\contrib\\learn\\python\\learn\\datasets\\mnist.py:110: dense_to_one_hot (from tensorflow.contrib.learn.python.learn.datasets.mnist) is deprecated and will be removed in a future version.\n",
      "Instructions for updating:\n",
      "Please use tf.one_hot on tensors.\n",
      "Extracting C:\\Users\\dahlmoon\\Documents\\GitHub\\tensorflow_ipynb\\MNIST_data\\t10k-images-idx3-ubyte.gz\n",
      "Extracting C:\\Users\\dahlmoon\\Documents\\GitHub\\tensorflow_ipynb\\MNIST_data\\t10k-labels-idx1-ubyte.gz\n",
      "WARNING:tensorflow:From C:\\Users\\dahlmoon\\AppData\\Roaming\\Python\\Python36\\site-packages\\tensorflow\\contrib\\learn\\python\\learn\\datasets\\mnist.py:290: DataSet.__init__ (from tensorflow.contrib.learn.python.learn.datasets.mnist) is deprecated and will be removed in a future version.\n",
      "Instructions for updating:\n",
      "Please use alternatives such as official/mnist/dataset.py from tensorflow/models.\n"
     ]
    }
   ],
   "source": [
    "from tensorflow.examples.tutorials.mnist import input_data\n",
    "mnist = input_data.read_data_sets(r\"C:\\Users\\dahlmoon\\Documents\\GitHub\\tensorflow_ipynb\\MNIST_data\", one_hot=True)"
   ]
  },
  {
   "cell_type": "markdown",
   "metadata": {},
   "source": [
    "-------------------------------------------------------------------------\n",
    "## 2. Simple Layer\n",
    "\n",
    "### 2-1. Hyper-parameter"
   ]
  },
  {
   "cell_type": "code",
   "execution_count": 5,
   "metadata": {},
   "outputs": [],
   "source": [
    "training_epochs = 25\n",
    "batch_size      = 100\n",
    "learning_rate   = 0.001\n",
    "display_step    = 1"
   ]
  },
  {
   "cell_type": "markdown",
   "metadata": {},
   "source": [
    "### 2-2. Input"
   ]
  },
  {
   "cell_type": "code",
   "execution_count": 6,
   "metadata": {},
   "outputs": [],
   "source": [
    "# 28 * 28 = 784\n",
    "x = tf.placeholder(\"float\", [None, 784])\n",
    "# 0부터 9까지\n",
    "y = tf.placeholder(\"float\", [None, 10])\n",
    "\n",
    "W = tf.Variable(tf.zeros([784, 10]))\n",
    "b = tf.Variable(tf.zeros([10]))"
   ]
  },
  {
   "cell_type": "markdown",
   "metadata": {},
   "source": [
    "### 2-3. Optimization"
   ]
  },
  {
   "cell_type": "code",
   "execution_count": 7,
   "metadata": {},
   "outputs": [],
   "source": [
    "activation = tf.nn.softmax(tf.matmul(x, W) + b)\n",
    "cost       = tf.reduce_mean(-tf.reduce_sum(y*tf.log(activation), reduction_indices = 1))\n",
    "optimizer  = tf.train.GradientDescentOptimizer(learning_rate).minimize(cost)"
   ]
  },
  {
   "cell_type": "markdown",
   "metadata": {},
   "source": [
    "### 2-4. tf.Session"
   ]
  },
  {
   "cell_type": "code",
   "execution_count": 8,
   "metadata": {},
   "outputs": [
    {
     "name": "stdout",
     "output_type": "stream",
     "text": [
      "Epoch:  0001 cost:  2.045368037\n",
      "Epoch:  0002 cost:  1.654527778\n",
      "Epoch:  0003 cost:  1.394464800\n",
      "Epoch:  0004 cost:  1.217187467\n",
      "Epoch:  0005 cost:  1.091393817\n",
      "Epoch:  0006 cost:  0.998409498\n",
      "Epoch:  0007 cost:  0.927097015\n",
      "Epoch:  0008 cost:  0.870716375\n",
      "Epoch:  0009 cost:  0.824991920\n",
      "Epoch:  0010 cost:  0.787101486\n",
      "Epoch:  0011 cost:  0.755147379\n",
      "Epoch:  0012 cost:  0.727812628\n",
      "Epoch:  0013 cost:  0.704108935\n",
      "Epoch:  0014 cost:  0.683336378\n",
      "Epoch:  0015 cost:  0.664968501\n",
      "Epoch:  0016 cost:  0.648585583\n",
      "Epoch:  0017 cost:  0.633877185\n",
      "Epoch:  0018 cost:  0.620563761\n",
      "Epoch:  0019 cost:  0.608469510\n",
      "Epoch:  0020 cost:  0.597411446\n",
      "Epoch:  0021 cost:  0.587256395\n",
      "Epoch:  0022 cost:  0.577900936\n",
      "Epoch:  0023 cost:  0.569231686\n",
      "Epoch:  0024 cost:  0.561191898\n",
      "Epoch:  0025 cost:  0.553693546\n",
      "Optimization DONE!\n",
      "==========================================================\n",
      "Accuracy:  0.8783\n",
      "==========================================================\n",
      "Label:  [4]\n",
      "Predict:  [4]\n"
     ]
    },
    {
     "data": {
      "image/png": "[encoded data removed]",
      "text/plain": [
       "<Figure size 432x288 with 1 Axes>"
      ]
     },
     "metadata": {
      "needs_background": "light"
     },
     "output_type": "display_data"
    }
   ],
   "source": [
    "init = tf.global_variables_initializer()\n",
    "\n",
    "with tf.Session() as sess:\n",
    "    sess.run(init)\n",
    "\n",
    "    for epoch in range(training_epochs):\n",
    "        ## mini batch\n",
    "        avg_cost = 0.\n",
    "        total_batch = int(mnist.train.num_examples / batch_size)\n",
    "\n",
    "        ## mini batch training\n",
    "        for i in range(total_batch):\n",
    "            batch_xs, batch_ys = mnist.train.next_batch(batch_size)\n",
    "            sess.run(optimizer, feed_dict = {x:batch_xs, y:batch_ys})\n",
    "            avg_cost += sess.run(cost, feed_dict = {x:batch_xs, y:batch_ys}) / total_batch\n",
    "\n",
    "        ## log print\n",
    "        if epoch % display_step == 0:\n",
    "            print(\"Epoch: \", '%04d' % (epoch + 1), \"cost: \", \"{:.9f}\".format(avg_cost))\n",
    "\n",
    "    print(\"Optimization DONE!\")\n",
    "    print(\"==========================================================\")\n",
    "\n",
    "    \n",
    "    ## test\n",
    "    correct_prediction = tf.equal(tf.argmax(activation, 1), tf.argmax(y, 1))\n",
    "    accuracy = tf.reduce_mean(tf.cast(correct_prediction, \"float\")) ## cast: same shape as x\n",
    "    print(\"Accuracy: \", accuracy.eval({x: mnist.test.images, y:mnist.test.labels}))\n",
    "    print(\"==========================================================\")\n",
    "\n",
    "    \n",
    "    ## predict\n",
    "    r = random.SystemRandom().randint(0, mnist.test.num_examples -1) ## indx random search\n",
    "\n",
    "    print(\"Label: \",   sess.run(tf.argmax(mnist.test.labels[r:r+1], 1)))                ## Label:   [2]\n",
    "    print(\"Predict: \", sess.run(tf.argmax(activation,1), {x:mnist.test.images[r:r+1]})) ## Predict: [2]\n",
    "\n",
    "    \n",
    "    ## plot\n",
    "    plt.imshow(mnist.test.images[r:r+1].reshape(28, 28), cmap = 'gray', interpolation = 'nearest')\n",
    "    plt.show()"
   ]
  },
  {
   "cell_type": "markdown",
   "metadata": {},
   "source": [
    "--------------------------------------------------------------------------------\n",
    "\n",
    "*End of Code*"
   ]
  }
 ],
 "metadata": {
  "kernelspec": {
   "display_name": "Python 3",
   "language": "python",
   "name": "python3"
  },
  "language_info": {
   "codemirror_mode": {
    "name": "ipython",
    "version": 3
   },
   "file_extension": ".py",
   "mimetype": "text/x-python",
   "name": "python",
   "nbconvert_exporter": "python",
   "pygments_lexer": "ipython3",
   "version": "3.6.8"
  }
 },
 "nbformat": 4,
 "nbformat_minor": 2
}
