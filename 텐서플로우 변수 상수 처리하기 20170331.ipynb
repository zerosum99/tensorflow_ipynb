{
 "cells": [
  {
   "cell_type": "code",
   "execution_count": 1,
   "metadata": {
    "collapsed": true
   },
   "outputs": [],
   "source": [
    "import tensorflow as tf\n"
   ]
  },
  {
   "cell_type": "markdown",
   "metadata": {},
   "source": [
    "# Session 이해하기\n",
    "\n",
    "    텐서플로우를 코딩하는 영역은 graph로 관리하고 실행하려면 별도의 Session 객체를 구현\n",
    "    \n",
    "    구현된 graph를 가지고 다양한 device에 분산해서 작업을 실행할 수 있도록 구성됨 \n",
    "    "
   ]
  },
  {
   "cell_type": "markdown",
   "metadata": {},
   "source": [
    "##  텐서플로우 예제   : session처리\n",
    "\n",
    "     \n",
    "     \n",
    "     tensorflow 모듈을 가져 와서 tf 호출\n",
    "     \n",
    "     constant로 정의하면 텐서를 만든다.\n",
    "     \n",
    "     session을 생성해서 실제 run을 실행해야 결과가 나온다\n",
    "\n",
    "     Hello Tensor World를 문자열로 출력하면 bytes로 표시\n",
    "     unicode로 표시하려면 decode 처리 필요 \n",
    "     "
   ]
  },
  {
   "cell_type": "code",
   "execution_count": 44,
   "metadata": {
    "collapsed": false
   },
   "outputs": [
    {
     "name": "stdout",
     "output_type": "stream",
     "text": [
      "st type :  <class 'tensorflow.python.framework.ops.Tensor'>\n",
      "b'Hello Tensor World'\n",
      "result type :  <class 'bytes'>\n",
      "Hello Tensor World\n"
     ]
    }
   ],
   "source": [
    "import tensorflow as tf\n",
    "\n",
    "st = tf.constant(\"Hello Tensor World\")\n",
    "\n",
    "print(\"st type : \", type(st))\n",
    "sess = tf.Session()\n",
    "result = sess.run(st)\n",
    "\n",
    "print(result)\n",
    "print(\"result type : \",type(result))\n",
    "print(result.decode(encoding=\"utf-8\"))\n",
    "sess.close()"
   ]
  },
  {
   "cell_type": "markdown",
   "metadata": {},
   "source": [
    "#### with 구문을 이용해서 실행하기\n"
   ]
  },
  {
   "cell_type": "code",
   "execution_count": 106,
   "metadata": {
    "collapsed": false
   },
   "outputs": [
    {
     "name": "stdout",
     "output_type": "stream",
     "text": [
      "st type :  <class 'tensorflow.python.framework.ops.Tensor'>\n",
      "b'Hello Tensor World'\n",
      "result type :  <class 'bytes'>\n",
      "Hello Tensor World\n"
     ]
    }
   ],
   "source": [
    "import tensorflow as tf\n",
    "\n",
    "st = tf.constant(\"Hello Tensor World\")\n",
    "\n",
    "print(\"st type : \", type(st))\n",
    "\n",
    "with tf.Session() as sess :\n",
    "    result = sess.run(st)\n",
    "\n",
    "    print(result)\n",
    "    print(\"result type : \",type(result))\n",
    "    print(result.decode(encoding=\"utf-8\"))\n"
   ]
  },
  {
   "cell_type": "markdown",
   "metadata": {},
   "source": [
    "#### with 구문에서는 직접 내장 메소드 eval로 처리 가능\n"
   ]
  },
  {
   "cell_type": "code",
   "execution_count": 104,
   "metadata": {
    "collapsed": false
   },
   "outputs": [
    {
     "name": "stdout",
     "output_type": "stream",
     "text": [
      "st type :  <class 'tensorflow.python.framework.ops.Tensor'>\n",
      "b'Hello Tensor World'\n"
     ]
    }
   ],
   "source": [
    "import tensorflow as tf\n",
    "\n",
    "st = tf.constant(\"Hello Tensor World\")\n",
    "\n",
    "print(\"st type : \", type(st))\n",
    "\n",
    "with tf.Session() as sess :\n",
    "    print(st.eval())"
   ]
  },
  {
   "cell_type": "markdown",
   "metadata": {},
   "source": [
    "# 텐서 이해하기 \n",
    "\n",
    "\n",
    "    텐서 클래스는 op에서 생성되는 모든 객체는 텐서 클래스로 만들어짐\n",
    "    \n",
    "    텐서는 eval로 평가해서 값을 출력함\n",
    "    \n",
    "    텐서가 묶인 op는 op 속성으로 조회가 가능 함\n",
    "    "
   ]
  },
  {
   "cell_type": "markdown",
   "metadata": {},
   "source": [
    "##  텐서 차원이해하기 \n",
    "\n",
    "\n",
    "    0\tScalar (magnitude only)\ts = 483\n",
    "    1\tVector (magnitude and direction)\tv = [1.1, 2.2, 3.3]\n",
    "    2\tMatrix (table of numbers)\tm = [[1, 2, 3], [4, 5, 6], [7, 8, 9]]\n",
    "    3\t3-Tensor (cube of numbers)\tt = [[[2], [4], [6]], [[8], [10], [12]], [[14], [16], [18]]]\n",
    "    n\tn-Tensor (you get the idea)\t....\n",
    "    \n",
    "    "
   ]
  },
  {
   "cell_type": "code",
   "execution_count": 12,
   "metadata": {
    "collapsed": false
   },
   "outputs": [
    {
     "name": "stdout",
     "output_type": "stream",
     "text": [
      "['OVERLOADABLE_OPERATORS', '__abs__', '__add__', '__and__', '__array_priority__', '__bool__', '__class__', '__delattr__', '__dict__', '__dir__', '__div__', '__doc__', '__eq__', '__floordiv__', '__format__', '__ge__', '__getattribute__', '__getitem__', '__gt__', '__hash__', '__init__', '__invert__', '__iter__', '__le__', '__lt__', '__mod__', '__module__', '__mul__', '__ne__', '__neg__', '__new__', '__nonzero__', '__or__', '__pow__', '__radd__', '__rand__', '__rdiv__', '__reduce__', '__reduce_ex__', '__repr__', '__rfloordiv__', '__rmod__', '__rmul__', '__ror__', '__rpow__', '__rsub__', '__rtruediv__', '__rxor__', '__setattr__', '__sizeof__', '__str__', '__sub__', '__subclasshook__', '__truediv__', '__weakref__', '__xor__', '_add_consumer', '_as_node_def_input', '_override_operator', '_shape_as_list', 'consumers', 'device', 'dtype', 'eval', 'get_shape', 'graph', 'name', 'op', 'set_shape', 'value_index']\n"
     ]
    }
   ],
   "source": [
    "print(dir(tf.Tensor))"
   ]
  },
  {
   "cell_type": "markdown",
   "metadata": {},
   "source": [
    "### 텐서 내부 속성을 확인하기 : rank( 차원), size(크기), shape\n"
   ]
  },
  {
   "cell_type": "code",
   "execution_count": 101,
   "metadata": {
    "collapsed": false
   },
   "outputs": [
    {
     "name": "stdout",
     "output_type": "stream",
     "text": [
      "1\n",
      "3\n",
      "[3]\n"
     ]
    }
   ],
   "source": [
    "import tensorflow as tf\n",
    "\n",
    "t1 = tf.constant([1,2,3])\n",
    "\n",
    "with tf.Session() as sess :\n",
    "    print(sess.run(tf.rank(t)))\n",
    "    print(sess.run(tf.size(t)))\n",
    "    print(sess.run(tf.shape(t)))\n"
   ]
  },
  {
   "cell_type": "markdown",
   "metadata": {},
   "source": [
    "### 텐서 0 차원 : 스칼라"
   ]
  },
  {
   "cell_type": "code",
   "execution_count": 23,
   "metadata": {
    "collapsed": false
   },
   "outputs": [
    {
     "name": "stdout",
     "output_type": "stream",
     "text": [
      "scalar:0\n",
      "<dtype: 'int32'>\n",
      "()\n",
      "name: \"scalar\"\n",
      "op: \"Const\"\n",
      "attr {\n",
      "  key: \"dtype\"\n",
      "  value {\n",
      "    type: DT_INT32\n",
      "  }\n",
      "}\n",
      "attr {\n",
      "  key: \"value\"\n",
      "  value {\n",
      "    tensor {\n",
      "      dtype: DT_INT32\n",
      "      tensor_shape {\n",
      "      }\n",
      "      int_val: 1\n",
      "    }\n",
      "  }\n",
      "}\n",
      "\n"
     ]
    }
   ],
   "source": [
    "print(a.name)\n",
    "print(a.dtype)\n",
    "print(a.get_shape())\n",
    "print(a.op)"
   ]
  },
  {
   "cell_type": "code",
   "execution_count": 38,
   "metadata": {
    "collapsed": false
   },
   "outputs": [
    {
     "name": "stdout",
     "output_type": "stream",
     "text": [
      "Tensor(\"Shape_15:0\", shape=(0,), dtype=int32)\n",
      "()\n"
     ]
    }
   ],
   "source": [
    "a = tf.constant(1, name=\"scalar\")\n",
    "\n",
    "print(tf.shape(a))\n",
    "print(a.get_shape())"
   ]
  },
  {
   "cell_type": "markdown",
   "metadata": {},
   "source": [
    "### 텐서 1 차원 : 벡터"
   ]
  },
  {
   "cell_type": "code",
   "execution_count": 37,
   "metadata": {
    "collapsed": false
   },
   "outputs": [
    {
     "name": "stdout",
     "output_type": "stream",
     "text": [
      "Tensor(\"Shape_14:0\", shape=(1,), dtype=int32)\n",
      "(3,)\n"
     ]
    }
   ],
   "source": [
    "av = tf.constant([1,2,3], name=\"vector\")\n",
    "\n",
    "print(tf.shape(av))\n",
    "print(av.get_shape())\n"
   ]
  },
  {
   "cell_type": "code",
   "execution_count": 22,
   "metadata": {
    "collapsed": false
   },
   "outputs": [
    {
     "name": "stdout",
     "output_type": "stream",
     "text": [
      "vector:0\n",
      "<dtype: 'int32'>\n",
      "(3,)\n",
      "name: \"vector\"\n",
      "op: \"Const\"\n",
      "attr {\n",
      "  key: \"dtype\"\n",
      "  value {\n",
      "    type: DT_INT32\n",
      "  }\n",
      "}\n",
      "attr {\n",
      "  key: \"value\"\n",
      "  value {\n",
      "    tensor {\n",
      "      dtype: DT_INT32\n",
      "      tensor_shape {\n",
      "        dim {\n",
      "          size: 3\n",
      "        }\n",
      "      }\n",
      "      tensor_content: \"\\001\\000\\000\\000\\002\\000\\000\\000\\003\\000\\000\\000\"\n",
      "    }\n",
      "  }\n",
      "}\n",
      "\n"
     ]
    }
   ],
   "source": [
    "print(av.name)\n",
    "print(av.dtype)\n",
    "print(av.get_shape())\n",
    "print(av.op)"
   ]
  },
  {
   "cell_type": "markdown",
   "metadata": {},
   "source": [
    "###  텐서 2 차원 : 매트릭스\n"
   ]
  },
  {
   "cell_type": "code",
   "execution_count": 39,
   "metadata": {
    "collapsed": false
   },
   "outputs": [
    {
     "name": "stdout",
     "output_type": "stream",
     "text": [
      "Tensor(\"Shape_16:0\", shape=(2,), dtype=int32)\n",
      "(2, 3)\n"
     ]
    }
   ],
   "source": [
    "am = tf.constant([[1,2,3],[4,5,6]], name=\"matrix\")\n",
    "\n",
    "print(tf.shape(am))\n",
    "print(am.get_shape())\n"
   ]
  },
  {
   "cell_type": "code",
   "execution_count": 19,
   "metadata": {
    "collapsed": false
   },
   "outputs": [
    {
     "name": "stdout",
     "output_type": "stream",
     "text": [
      "matrix:0\n",
      "<dtype: 'int32'>\n",
      "(2, 3)\n",
      "name: \"matrix\"\n",
      "op: \"Const\"\n",
      "attr {\n",
      "  key: \"dtype\"\n",
      "  value {\n",
      "    type: DT_INT32\n",
      "  }\n",
      "}\n",
      "attr {\n",
      "  key: \"value\"\n",
      "  value {\n",
      "    tensor {\n",
      "      dtype: DT_INT32\n",
      "      tensor_shape {\n",
      "        dim {\n",
      "          size: 2\n",
      "        }\n",
      "        dim {\n",
      "          size: 3\n",
      "        }\n",
      "      }\n",
      "      tensor_content: \"\\001\\000\\000\\000\\002\\000\\000\\000\\003\\000\\000\\000\\004\\000\\000\\000\\005\\000\\000\\000\\006\\000\\000\\000\"\n",
      "    }\n",
      "  }\n",
      "}\n",
      "\n"
     ]
    }
   ],
   "source": [
    "print(am.name)\n",
    "print(am.dtype)\n",
    "print(am.get_shape())\n",
    "print(am.op)"
   ]
  },
  {
   "cell_type": "markdown",
   "metadata": {},
   "source": [
    "### 텐서 3차원 : 큐브"
   ]
  },
  {
   "cell_type": "code",
   "execution_count": 40,
   "metadata": {
    "collapsed": false
   },
   "outputs": [
    {
     "name": "stdout",
     "output_type": "stream",
     "text": [
      "Tensor(\"Shape_17:0\", shape=(3,), dtype=int32)\n",
      "(2, 2, 3)\n"
     ]
    }
   ],
   "source": [
    "import numpy as np\n",
    "\n",
    "c = [[1,2,3],[4,5,6]],[[7,8,9],[10,11,12]]\n",
    "ac = tf.constant(c, name=\"cube\")\n",
    "\n",
    "print(tf.shape(ac))\n",
    "print(ac.get_shape())\n"
   ]
  },
  {
   "cell_type": "code",
   "execution_count": 21,
   "metadata": {
    "collapsed": false
   },
   "outputs": [
    {
     "name": "stdout",
     "output_type": "stream",
     "text": [
      "cube:0\n",
      "<dtype: 'int32'>\n",
      "(2, 2, 3)\n",
      "name: \"cube\"\n",
      "op: \"Const\"\n",
      "attr {\n",
      "  key: \"dtype\"\n",
      "  value {\n",
      "    type: DT_INT32\n",
      "  }\n",
      "}\n",
      "attr {\n",
      "  key: \"value\"\n",
      "  value {\n",
      "    tensor {\n",
      "      dtype: DT_INT32\n",
      "      tensor_shape {\n",
      "        dim {\n",
      "          size: 2\n",
      "        }\n",
      "        dim {\n",
      "          size: 2\n",
      "        }\n",
      "        dim {\n",
      "          size: 3\n",
      "        }\n",
      "      }\n",
      "      tensor_content: \"\\001\\000\\000\\000\\002\\000\\000\\000\\003\\000\\000\\000\\004\\000\\000\\000\\005\\000\\000\\000\\006\\000\\000\\000\\007\\000\\000\\000\\010\\000\\000\\000\\t\\000\\000\\000\\n\\000\\000\\000\\013\\000\\000\\000\\014\\000\\000\\000\"\n",
      "    }\n",
      "  }\n",
      "}\n",
      "\n"
     ]
    }
   ],
   "source": [
    "print(ac.name)\n",
    "print(ac.dtype)\n",
    "print(ac.get_shape())\n",
    "print(ac.op)"
   ]
  },
  {
   "cell_type": "markdown",
   "metadata": {},
   "source": [
    "## 텐서 데이터 타입 \n",
    "\n",
    "    tf.float16: 16-bit half-precision floating-point.\n",
    "    tf.float32: 32-bit single-precision floating-point.\n",
    "    tf.float64: 64-bit double-precision floating-point.\n",
    "    tf.bfloat16: 16-bit truncated floating-point.\n",
    "    tf.complex64: 64-bit single-precision complex.\n",
    "    tf.complex128: 128-bit double-precision complex.\n",
    "    tf.int8: 8-bit signed integer.\n",
    "    tf.uint8: 8-bit unsigned integer.\n",
    "    tf.uint16: 16-bit unsigned integer.\n",
    "    tf.int16: 16-bit signed integer.\n",
    "    tf.int32: 32-bit signed integer.\n",
    "    tf.int64: 64-bit signed integer.\n",
    "    tf.bool: Boolean.\n",
    "    tf.string: String.\n",
    "    tf.qint8: Quantized 8-bit signed integer.\n",
    "    tf.quint8: Quantized 8-bit unsigned integer.\n",
    "    tf.qint16: Quantized 16-bit signed integer.\n",
    "    tf.quint16: Quantized 16-bit unsigned integer.\n",
    "    tf.qint32: Quantized 32-bit signed integer.\n",
    "    tf.resource: Handle to a mutable resource.\n",
    "    \n",
    "    "
   ]
  },
  {
   "cell_type": "markdown",
   "metadata": {},
   "source": [
    "## 상수 정의 \n",
    "\n",
    "\n",
    "    Create a constant.\n",
    "    y = tf.constant(value, dtype=None, shape=None, name='Const', verify_shape=False)\n",
    "    \n",
    "    Args:\n",
    "      value:          A constant value (or list) of output type `dtype`.\n",
    "    \n",
    "      dtype:          The type of the elements of the resulting tensor.\n",
    "    \n",
    "      shape:          Optional dimensions of resulting tensor.\n",
    "    \n",
    "      name:           Optional name for the tensor.\n",
    "    \n",
    "      verify_shape:   Boolean that enables verification of a shape of values.\n",
    "    \n",
    "    Returns:\n",
    "      A Constant Tensor.\n"
   ]
  },
  {
   "cell_type": "code",
   "execution_count": 49,
   "metadata": {
    "collapsed": false
   },
   "outputs": [
    {
     "name": "stdout",
     "output_type": "stream",
     "text": [
      "<function constant at 0x00000000060BA6A8>\n"
     ]
    }
   ],
   "source": [
    "print(tf.constant)\n"
   ]
  },
  {
   "cell_type": "code",
   "execution_count": 98,
   "metadata": {
    "collapsed": false
   },
   "outputs": [
    {
     "name": "stdout",
     "output_type": "stream",
     "text": [
      "[[ 1.484587    1.72385425  0.92996867  1.283922  ]\n",
      " [ 0.52102258  1.31529364  1.06863375  0.9355682 ]\n",
      " [ 1.02781008  1.53629805  1.00463231  0.72022358]\n",
      " [ 0.54254736  0.35386701  0.80469045  0.84015178]]\n"
     ]
    }
   ],
   "source": [
    "import tensorflow as tf\n",
    "\n",
    "c = tf.constant(np.random.rand(4, 4))\n",
    "v = tf.constant(np.random.rand(4, 4))\n",
    "vc = tf.add(v,c)\n",
    "\n",
    "with tf.Session() as sess :\n",
    "    print(sess.run(vc))"
   ]
  },
  {
   "cell_type": "markdown",
   "metadata": {
    "collapsed": true
   },
   "source": [
    "## placeholder 정의 \n",
    "\n",
    "    tf.placeholder(dtype, shape=None, name=None)\n",
    "\n",
    "    Args:\n",
    "         dtype:  데이터 타입 \n",
    "        shape:  제공될 데이터에 대한 tensor  차원 \n",
    "        name: A name for the operation \n",
    "\n",
    "\n",
    "    Returns:\n",
    "        A Tensor that may be used as a handle for feeding a value, but not evaluated directly.\n",
    "\n"
   ]
  },
  {
   "cell_type": "code",
   "execution_count": 93,
   "metadata": {
    "collapsed": false
   },
   "outputs": [
    {
     "name": "stdout",
     "output_type": "stream",
     "text": [
      "<function placeholder at 0x00000000061300D0>\n"
     ]
    }
   ],
   "source": [
    "print(tf.placeholder)"
   ]
  },
  {
   "cell_type": "markdown",
   "metadata": {},
   "source": [
    "### placeholder는 feed_dict으로 데이터를 공급하지 않으면 에러 \n",
    "    \n",
    "    placeholder처리 하려면 반드시 값을 넣어서 실행해야 함\n",
    "    \n",
    "    x = tf.placeholder(tf.float32, shape=(1024, 1024))\n",
    "    y = tf.matmul(x, x)\n",
    "\n",
    "    with tf.Session() as sess:\n",
    "        print(sess.run(y))  # ERROR: will fail because x was not fed.\n"
   ]
  },
  {
   "cell_type": "markdown",
   "metadata": {},
   "source": [
    "###  session에서 feed_dict을 통해 데이터 넣기"
   ]
  },
  {
   "cell_type": "code",
   "execution_count": 97,
   "metadata": {
    "collapsed": false
   },
   "outputs": [
    {
     "name": "stdout",
     "output_type": "stream",
     "text": [
      "[[ 1.52008021  1.13126755  1.41377783  1.84304702]\n",
      " [ 1.06238067  0.93654001  1.29258287  1.31591821]\n",
      " [ 0.99897033  0.63824672  0.9341023   1.20034957]\n",
      " [ 0.6686272   0.65106231  0.65503454  0.95545018]]\n"
     ]
    }
   ],
   "source": [
    "import tensorflow as tf\n",
    "import numpy as np\n",
    "\n",
    "x = tf.placeholder(tf.float32, shape=(4, 4))\n",
    "y = tf.matmul(x, x)\n",
    "\n",
    "with tf.Session() as sess:\n",
    "    rand_array = np.random.rand(4, 4)\n",
    "    print(sess.run(y, feed_dict={x: rand_array}))  # Will succeed."
   ]
  },
  {
   "cell_type": "markdown",
   "metadata": {
    "collapsed": false
   },
   "source": [
    "## 변수 정의\n",
    "\n",
    "\n",
    "    tf.Variable ()을 호출하면 그래프에 몇 가지 연산이 추가됩니다.\n",
    "\n",
    "        . 변수 값을 보유하는 변수 op.\n",
    "        . 변수를 초기 값으로 설정하는 이니셜 라이저 op. 이것은 실제로 tf.assign op입니다.\n",
    "\n",
    "\n",
    "    Create a variable.\n",
    "    y = tf.Variable(<initial-value>, name=<optional-name>) \n",
    "    \n",
    "    __init__(self, initial_value=None, trainable=True, collections=None, validate_shape=True, caching_device=None,\n",
    "          name=None, variable_def=None, dtype=None, expected_shape=None, import_scope=None)\n",
    "          \n",
    "        "
   ]
  },
  {
   "cell_type": "code",
   "execution_count": 51,
   "metadata": {
    "collapsed": false
   },
   "outputs": [
    {
     "name": "stdout",
     "output_type": "stream",
     "text": [
      "<class 'tensorflow.python.ops.variables.Variable'>\n"
     ]
    }
   ],
   "source": [
    "print(tf.Variable)\n"
   ]
  },
  {
   "cell_type": "markdown",
   "metadata": {},
   "source": [
    "#### 변수 생성 "
   ]
  },
  {
   "cell_type": "code",
   "execution_count": 72,
   "metadata": {
    "collapsed": true
   },
   "outputs": [],
   "source": [
    "# Create two variables.\n",
    "weights = tf.Variable(tf.random_normal([784, 200], stddev=0.35),\n",
    "                      name=\"weights\")\n",
    "biases = tf.Variable(tf.zeros([200]), name=\"biases\")\n",
    "\n",
    "# Add an op to initialize the variables.\n",
    "init_op = tf.global_variables_initializer()\n",
    "\n",
    "# Later, when launching the model\n",
    "with tf.Session() as sess:\n",
    "    # Run the init operation.\n",
    "    sess.run(init_op)\n",
    "    "
   ]
  },
  {
   "cell_type": "markdown",
   "metadata": {},
   "source": [
    "### 특정 변수의 값으로 다른 변수를 초기화 할 경우 \n",
    "\n",
    "    다른 변수의 값에서 새 변수를 초기화하려면 다른 변수의 initialized_value () 속성을 사용\n",
    "    \n",
    "    초기화 된 값을 새 변수의 초기 값으로 직접 사용할 수도 있고 다른 변수로 사용하여 새 변수의 값을 계산 가능\n",
    "    "
   ]
  },
  {
   "cell_type": "code",
   "execution_count": 74,
   "metadata": {
    "collapsed": false
   },
   "outputs": [
    {
     "name": "stdout",
     "output_type": "stream",
     "text": [
      "[[-0.33823353 -0.28394046  0.20729326 ..., -0.07212179  0.39310014\n",
      "  -0.0879118 ]\n",
      " [ 0.23410787 -0.01346574 -0.20841834 ...,  0.16936688 -0.34826913\n",
      "   0.1141772 ]\n",
      " [-0.2263352  -0.38478011  0.32925063 ..., -0.00182366 -0.07642219\n",
      "  -0.34284616]\n",
      " ..., \n",
      " [-0.04672311  0.48390901  0.33235973 ...,  0.54694116 -0.21059446\n",
      "  -0.07666499]\n",
      " [-0.47853109 -0.10672749 -0.08256613 ..., -0.13799028 -0.12031124\n",
      "  -0.21417311]\n",
      " [-0.11997278  0.25459582  0.0550442  ...,  0.19564374  0.22134672\n",
      "  -0.21969497]]\n"
     ]
    }
   ],
   "source": [
    "# Create a variable with a random value.\n",
    "sweights = tf.Variable(tf.random_normal([784, 200], stddev=0.35),\n",
    "                      name=\"weights\")\n",
    "# Create another variable with the same value as 'weights'.\n",
    "w2 = tf.Variable(sweights.initialized_value(), name=\"w2\")\n",
    "# Create another variable with twice the value of 'weights'\n",
    "w_twice = tf.Variable(sweights.initialized_value() * 2.0, name=\"w_twice\")\n",
    "\n",
    "# Add an op to initialize the variables.\n",
    "init_op = tf.global_variables_initializer()\n",
    "\n",
    "\n",
    "# Later, when launching the model\n",
    "with tf.Session() as sess:\n",
    "    sess.run(init_op)\n",
    "    # Run the init operation.\n",
    "    print(sess.run(w2))\n",
    "    "
   ]
  },
  {
   "cell_type": "markdown",
   "metadata": {},
   "source": [
    "####  변수 저장 및 로딩 하기 \n",
    "\n",
    "    Saver() 특정 파라미터가 없으면 전체 변수를 저장\n",
    "    \n",
    "    Saver(파라미터)가 있으면 특정 변수만 저장함\n",
    "    \n",
    "    "
   ]
  },
  {
   "cell_type": "code",
   "execution_count": 83,
   "metadata": {
    "collapsed": false
   },
   "outputs": [
    {
     "name": "stdout",
     "output_type": "stream",
     "text": [
      "[[ 0.08493172  0.28782862  0.28773323 ...,  0.01309356 -0.15825015\n",
      "   0.2941066 ]\n",
      " [-0.55174565  0.18439598  0.15785071 ...,  0.04067718  0.3195591\n",
      "  -0.4252196 ]\n",
      " [ 0.3368912  -0.13847151 -0.24619633 ...,  0.44731352 -0.00302966\n",
      "   0.15198968]\n",
      " ..., \n",
      " [-0.32286033  0.75312454  0.07238531 ..., -0.42754915  0.09952237\n",
      "  -0.07871494]\n",
      " [ 0.37507388 -0.2530959  -0.35818169 ...,  0.32119125 -0.24716598\n",
      "  -0.55784899]\n",
      " [-0.11032553  0.44231564  0.20180531 ...,  0.25111321 -0.30111223\n",
      "   0.19788411]]\n",
      "Model saved in file: /model.ckpt\n"
     ]
    }
   ],
   "source": [
    "# Create a variable with a random value.\n",
    "sweights = tf.Variable(tf.random_normal([784, 200], stddev=0.35),\n",
    "                      name=\"weights\")\n",
    "# Create another variable with the same value as 'weights'.\n",
    "w2 = tf.Variable(sweights.initialized_value(), name=\"w2\")\n",
    "# Create another variable with twice the value of 'weights'\n",
    "w_twice = tf.Variable(sweights.initialized_value() * 2.0, name=\"w_twice\")\n",
    "\n",
    "# Add an op to initialize the variables.\n",
    "init_op = tf.global_variables_initializer()\n",
    "\n",
    "\n",
    "saver = tf.train.Saver({\"my_w2\": w2})\n",
    "\n",
    "# Later, when launching the model\n",
    "with tf.Session() as sess:\n",
    "    sess.run(init_op)\n",
    "    # Run the init operation.\n",
    "    print(sess.run(w2))     \n",
    "    save_path = saver.save(sess, \"/model.ckpt\")\n",
    "    print(\"Model saved in file: %s\" % save_path)"
   ]
  },
  {
   "cell_type": "code",
   "execution_count": 92,
   "metadata": {
    "collapsed": false
   },
   "outputs": [
    {
     "name": "stdout",
     "output_type": "stream",
     "text": [
      "{'my_w2': array([[ 0.08493172,  0.28782862,  0.28773323, ...,  0.01309356,\n",
      "        -0.15825015,  0.2941066 ],\n",
      "       [-0.55174565,  0.18439598,  0.15785071, ...,  0.04067718,\n",
      "         0.3195591 , -0.4252196 ],\n",
      "       [ 0.3368912 , -0.13847151, -0.24619633, ...,  0.44731352,\n",
      "        -0.00302966,  0.15198968],\n",
      "       ..., \n",
      "       [-0.32286033,  0.75312454,  0.07238531, ..., -0.42754915,\n",
      "         0.09952237, -0.07871494],\n",
      "       [ 0.37507388, -0.2530959 , -0.35818169, ...,  0.32119125,\n",
      "        -0.24716598, -0.55784899],\n",
      "       [-0.11032553,  0.44231564,  0.20180531, ...,  0.25111321,\n",
      "        -0.30111223,  0.19788411]], dtype=float32)}\n",
      "Model restored.\n"
     ]
    }
   ],
   "source": [
    "\n",
    "# Later, when launching the model\n",
    "with tf.Session() as sess:\n",
    "    sess.run(init_op)\n",
    "    saver.restore(sess, \"/model.ckpt\")\n",
    "    # Run the init operation.\n",
    "    print(sess.run({\"my_w2\":w2}))\n",
    "    print(\"Model restored.\")"
   ]
  },
  {
   "cell_type": "code",
   "execution_count": 47,
   "metadata": {
    "collapsed": false
   },
   "outputs": [
    {
     "name": "stdout",
     "output_type": "stream",
     "text": [
      "<function placeholder at 0x00000000061300D0>\n"
     ]
    }
   ],
   "source": [
    "print(tf.placeholder)"
   ]
  },
  {
   "cell_type": "markdown",
   "metadata": {},
   "source": [
    "## 변수 scope\n",
    "\n",
    "    tf.get_variable (<name>, <shape>, <initializer>) : 주어진 이름의 변수를 생성하거나 반환합니다.\n",
    "    \n",
    "    tf.variable_scope (<scope_name>) : tf.get_variable ()에 전달 된 이름의 네임 스페이스를 관리합니다.\n",
    "    \n",
    "    tf.get_variable () 함수는 tf.Variable을 직접 호출하는 대신 변수를 얻거나 생성하는 데 사용됩니다. \n",
    "    \n",
    "    tf.Variable에서와 같이 값을 직접 전달하는 대신 이니셜 라이저를 사용합니다.\n",
    "    \n",
    "        tf.constant_initializer (value)는 모든 값을 제공된 값으로 초기화합니다.\n",
    "        tf.random_uniform_initializer (a, b)는 [a, b],\n",
    "        tf.random_normal_initializer (mean, stddev) 주어진 평균과 표준 편차로 정규 분포로부터 초기화합니다."
   ]
  },
  {
   "cell_type": "markdown",
   "metadata": {},
   "source": [
    "### 변수를 가져와서 사용하는 함수 \n"
   ]
  },
  {
   "cell_type": "code",
   "execution_count": 52,
   "metadata": {
    "collapsed": false
   },
   "outputs": [
    {
     "name": "stdout",
     "output_type": "stream",
     "text": [
      "<function get_variable at 0x0000000009294BF8>\n"
     ]
    }
   ],
   "source": [
    "print(tf.get_variable)"
   ]
  },
  {
   "cell_type": "markdown",
   "metadata": {},
   "source": [
    "### 변수 스코프 정의\n",
    "\n",
    "    with tf.variable_scope(\"foo\"):\n",
    "        v = tf.get_variable(\"v\", [1])\n",
    "        "
   ]
  },
  {
   "cell_type": "code",
   "execution_count": 53,
   "metadata": {
    "collapsed": false
   },
   "outputs": [
    {
     "name": "stdout",
     "output_type": "stream",
     "text": [
      "<function variable_scope at 0x00000000092F5048>\n"
     ]
    }
   ],
   "source": [
    "print(tf.variable_scope)"
   ]
  },
  {
   "cell_type": "markdown",
   "metadata": {},
   "source": [
    "###  변수 스코프 내의 변수에 대한 재사용 \n"
   ]
  },
  {
   "cell_type": "code",
   "execution_count": 54,
   "metadata": {
    "collapsed": false
   },
   "outputs": [
    {
     "name": "stdout",
     "output_type": "stream",
     "text": [
      "True\n"
     ]
    }
   ],
   "source": [
    "with tf.variable_scope(\"foo\"):\n",
    "    v = tf.get_variable(\"v\", [1])\n",
    "    \n",
    "with tf.variable_scope(\"foo\", reuse=True):\n",
    "    v1 = tf.get_variable(\"v\", [1])\n",
    "    \n",
    "print(v1 is v)"
   ]
  },
  {
   "cell_type": "markdown",
   "metadata": {},
   "source": [
    "###  중복된 변수스코프를 확인하기 \n",
    "\n",
    "     두개의 변수 스코프 디렉토리가 생기므로 이를 확인하기 위한 풀 path 확인\n",
    "     \n",
    "     작업이 존재한다면 변수의 name을 변경해서 처리 필요"
   ]
  },
  {
   "cell_type": "code",
   "execution_count": 64,
   "metadata": {
    "collapsed": false
   },
   "outputs": [
    {
     "name": "stdout",
     "output_type": "stream",
     "text": [
      "foo/bar/v4:0\n"
     ]
    }
   ],
   "source": [
    "\n",
    "\n",
    "import tensorflow as tf\n",
    "\n",
    "with tf.variable_scope(\"foo\"):\n",
    "    with tf.variable_scope(\"bar\"):\n",
    "        v1 = tf.get_variable(\"v4\", [1])\n",
    "        \n",
    "print(v1.name)\n",
    "\n",
    "assert v1.name == \"foo/bar/v4:0\""
   ]
  },
  {
   "cell_type": "markdown",
   "metadata": {},
   "source": [
    "### 변수 처리시 초기화 처리 하기 \n",
    "\n",
    "\n",
    "    변수에 대해서는 초기화가 있어야 처리됨 "
   ]
  },
  {
   "cell_type": "code",
   "execution_count": 69,
   "metadata": {
    "collapsed": false
   },
   "outputs": [
    {
     "name": "stdout",
     "output_type": "stream",
     "text": [
      "<function global_variables_initializer at 0x00000000092A8AE8>\n"
     ]
    }
   ],
   "source": [
    "print(tf.global_variables_initializer)"
   ]
  },
  {
   "cell_type": "code",
   "execution_count": 70,
   "metadata": {
    "collapsed": false
   },
   "outputs": [
    {
     "name": "stdout",
     "output_type": "stream",
     "text": [
      "Help on function global_variables_initializer in module tensorflow.python.ops.variables:\n",
      "\n",
      "global_variables_initializer()\n",
      "    Returns an Op that initializes global variables.\n",
      "    \n",
      "    This is just a shortcut for `variable_initializers(global_variables())`\n",
      "    \n",
      "    Returns:\n",
      "      An Op that initializes global variables in the graph.\n",
      "\n"
     ]
    }
   ],
   "source": [
    "help(tf.global_variables_initializer)"
   ]
  },
  {
   "cell_type": "code",
   "execution_count": 68,
   "metadata": {
    "collapsed": false
   },
   "outputs": [
    {
     "name": "stdout",
     "output_type": "stream",
     "text": [
      "1\n"
     ]
    }
   ],
   "source": [
    "import tensorflow as tf\n",
    "\n",
    "c = tf.constant(1)\n",
    "v = tf.Variable(0)\n",
    "vc = tf.add(v,c)\n",
    "\n",
    "with tf.Session() as sess :\n",
    "    # 변수 초기화\n",
    "    sess.run(tf.global_variables_initializer())\n",
    "    print(sess.run(vc))\n",
    "    \n",
    "    "
   ]
  },
  {
   "cell_type": "markdown",
   "metadata": {},
   "source": [
    "### Constant Value Tensors\n",
    "\n",
    "   \n",
    "      텐서 컨스턴트 값을 생성하는 함수들 \n",
    "      "
   ]
  },
  {
   "cell_type": "code",
   "execution_count": 111,
   "metadata": {
    "collapsed": false
   },
   "outputs": [
    {
     "name": "stdout",
     "output_type": "stream",
     "text": [
      "[[ 0.  0.]\n",
      " [ 0.  0.]]\n",
      "[[ 0.  0.]\n",
      " [ 0.  0.]]\n"
     ]
    }
   ],
   "source": [
    "import tensorflow as tf\n",
    "\n",
    "c = tf.zeros([2,2])\n",
    "d = tf.zeros_like(c)\n",
    "\n",
    "with tf.Session() as sess :\n",
    "    print(sess.run(c))\n",
    "    print(sess.run(d))"
   ]
  },
  {
   "cell_type": "code",
   "execution_count": 112,
   "metadata": {
    "collapsed": false
   },
   "outputs": [
    {
     "name": "stdout",
     "output_type": "stream",
     "text": [
      "[[ 1.  1.]\n",
      " [ 1.  1.]]\n",
      "[[ 1.  1.]\n",
      " [ 1.  1.]]\n"
     ]
    }
   ],
   "source": [
    "import tensorflow as tf\n",
    "\n",
    "c = tf.ones([2,2])\n",
    "d = tf.ones_like(c)\n",
    "\n",
    "with tf.Session() as sess :\n",
    "    print(sess.run(c))\n",
    "    print(sess.run(d))"
   ]
  },
  {
   "cell_type": "code",
   "execution_count": 114,
   "metadata": {
    "collapsed": false
   },
   "outputs": [
    {
     "name": "stdout",
     "output_type": "stream",
     "text": [
      "[[99 99]\n",
      " [99 99]]\n"
     ]
    }
   ],
   "source": [
    "import tensorflow as tf\n",
    "\n",
    "c = tf.fill([2,2],99)\n",
    "\n",
    "\n",
    "with tf.Session() as sess :\n",
    "    print(sess.run(c))\n",
    "   "
   ]
  },
  {
   "cell_type": "markdown",
   "metadata": {},
   "source": [
    "### 1차원 벡터만을 생성하는 함수"
   ]
  },
  {
   "cell_type": "code",
   "execution_count": 121,
   "metadata": {
    "collapsed": false
   },
   "outputs": [
    {
     "name": "stdout",
     "output_type": "stream",
     "text": [
      "[  1.    5.5  10. ]\n",
      "[1 2 3 4 5 6 7 8 9]\n"
     ]
    }
   ],
   "source": [
    "\n",
    "import tensorflow as tf\n",
    "\n",
    "\n",
    "# start, stop, num(갯수)\n",
    "c = tf.linspace(1.0,10.0, 3)\n",
    "d = tf.range(1,10)\n",
    "\n",
    "with tf.Session() as sess :\n",
    "    print(sess.run(c))\n",
    "    print(sess.run(d))\n",
    "   "
   ]
  },
  {
   "cell_type": "markdown",
   "metadata": {},
   "source": [
    "### 랜덤 텐서 함수 \n",
    "\n",
    "     tf.random_normal\n",
    "     tf.truncated_normal\n",
    "     tf.random_uniform\n",
    "     tf.random_shuffle\n",
    "      tf.random_crop\n",
    "     tf.multinomial\n",
    "     tf.random_gamma\n",
    "     tf.set_random_seed\n",
    "     "
   ]
  },
  {
   "cell_type": "markdown",
   "metadata": {},
   "source": [
    "#### tf.random_normal\n",
    "    정규분포는 평균과 표준편차 기준으로 분포를 고려해서 값을 추출\n",
    "\n",
    "    Args:\n",
    "\n",
    "        shape: A 1-D integer Tensor or Python array. The shape of the output tensor.\n",
    "        mean: A 0-D Tensor or Python value of type dtype. The mean of the normal distribution.\n",
    "        stddev: A 0-D Tensor or Python value of type dtype. The standard deviation of the normal distribution.\n",
    "        dtype: The type of the output.\n",
    "        seed: A Python integer. Used to create a random seed for the distribution. See tf.set_random_seed for behavior.\n",
    "        name: A name for the operation (optional)."
   ]
  },
  {
   "cell_type": "code",
   "execution_count": 128,
   "metadata": {
    "collapsed": false
   },
   "outputs": [
    {
     "name": "stdout",
     "output_type": "stream",
     "text": [
      "[[ 1.4042933  -0.21281534 -4.20805836]\n",
      " [ 0.94967532  3.14794254 -0.4049865 ]]\n",
      "[[ 2.13248587  8.27650356 -3.99474263]\n",
      " [-7.35243654 -2.79090166 -8.23570633]]\n"
     ]
    }
   ],
   "source": [
    "# Create a tensor of shape [2, 3] consisting of random normal values, with mean\n",
    "# -1 and standard deviation 4.\n",
    "norm = tf.random_normal([2, 3], mean=-1, stddev=4)\n",
    "\n",
    "# Shuffle the first dimension of a tensor\n",
    "c = tf.constant([[1, 2], [3, 4], [5, 6]])\n",
    "shuff = tf.random_shuffle(c)\n",
    "\n",
    "# Each time we run these ops, different results are generated\n",
    "sess = tf.Session()\n",
    "print(sess.run(norm))\n",
    "print(sess.run(norm))\n",
    "\n",
    "sess.close()"
   ]
  },
  {
   "cell_type": "markdown",
   "metadata": {},
   "source": [
    "#### seed 사용 "
   ]
  },
  {
   "cell_type": "code",
   "execution_count": 131,
   "metadata": {
    "collapsed": false
   },
   "outputs": [
    {
     "name": "stdout",
     "output_type": "stream",
     "text": [
      "[[ 1.63685679  1.00188148  1.25753987]\n",
      " [ 0.45011964  1.11365914 -1.19020486]]\n",
      "[[ 0.45145848 -0.81094784 -0.51305276]\n",
      " [ 0.29062209  0.95457983 -0.12476464]]\n",
      "[[-0.01256501 -0.0853148   0.59847659]\n",
      " [-0.49941367 -0.54248077  0.17156023]]\n",
      "[[ 0.16355799  0.44670466  0.85255063]\n",
      " [ 0.39975375 -1.14653504  0.52124614]]\n"
     ]
    }
   ],
   "source": [
    "# Set an op-level seed to generate repeatable sequences across sessions.\n",
    "norm = tf.random_normal([2, 3], seed=10)\n",
    "\n",
    "sess = tf.Session()\n",
    "print(sess.run(norm))\n",
    "print(sess.run(norm))\n",
    "\n",
    "print(sess.run(norm))\n",
    "print(sess.run(norm))\n",
    "\n",
    "sess.close()"
   ]
  },
  {
   "cell_type": "markdown",
   "metadata": {},
   "source": [
    "#### uniform 분포 처리 \n",
    "\n",
    "    최소값과 최대값 사이이 균등 분포를 기준으로 추출 \n",
    "\n",
    "    Args:\n",
    "\n",
    "        shape: A 1-D integer Tensor or Python array. The shape of the output tensor.\n",
    "        minval: A 0-D Tensor or Python value of type dtype. The lower bound on the range of random values to generate. \n",
    "            Defaults to 0.\n",
    "        maxval: A 0-D Tensor or Python value of type dtype. The upper bound on the range of random values to generate. \n",
    "            Defaults to 1 if dtype is floating point.\n",
    "        dtype: The type of the output: float32, float64, int32, or int64.\n",
    "        seed: A Python integer. Used to create a random seed for the distribution. See tf.set_random_seed for behavior.\n",
    "        name: A name for the operation (optional)."
   ]
  },
  {
   "cell_type": "code",
   "execution_count": 132,
   "metadata": {
    "collapsed": false
   },
   "outputs": [
    {
     "name": "stdout",
     "output_type": "stream",
     "text": [
      "[[ 0.18852091  0.07105541  0.91699469]\n",
      " [ 0.41412282  0.98064899  0.50473273]]\n",
      "[[ 0.92745495  0.31147861  0.60428464]\n",
      " [ 0.52034223  0.33283925  0.27551508]]\n",
      "[[ 0.50912225  0.79352653  0.38813448]\n",
      " [ 0.76685917  0.01508939  0.64015377]]\n",
      "[[ 0.20339799  0.39547741  0.18690157]\n",
      " [ 0.09348702  0.98701179  0.13843298]]\n"
     ]
    }
   ],
   "source": [
    "# 균등분포 \n",
    "norm = tf.random_uniform([2, 3],0,1)\n",
    "\n",
    "sess = tf.Session()\n",
    "print(sess.run(norm))\n",
    "print(sess.run(norm))\n",
    "\n",
    "print(sess.run(norm))\n",
    "print(sess.run(norm))\n",
    "\n",
    "sess.close()"
   ]
  },
  {
   "cell_type": "code",
   "execution_count": null,
   "metadata": {
    "collapsed": true
   },
   "outputs": [],
   "source": []
  }
 ],
 "metadata": {
  "anaconda-cloud": {},
  "kernelspec": {
   "display_name": "Python [conda root]",
   "language": "python",
   "name": "conda-root-py"
  },
  "language_info": {
   "codemirror_mode": {
    "name": "ipython",
    "version": 3
   },
   "file_extension": ".py",
   "mimetype": "text/x-python",
   "name": "python",
   "nbconvert_exporter": "python",
   "pygments_lexer": "ipython3",
   "version": "3.5.2"
  }
 },
 "nbformat": 4,
 "nbformat_minor": 1
}
