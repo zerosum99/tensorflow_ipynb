{
 "cells": [
  {
   "cell_type": "markdown",
   "metadata": {},
   "source": [
    "# Neural Network - Single Layer"
   ]
  },
  {
   "cell_type": "code",
   "execution_count": 1,
   "metadata": {},
   "outputs": [
    {
     "name": "stdout",
     "output_type": "stream",
     "text": [
      "C:\\Users\\dahlmoon\\Documents\\GitHub\\tensorflow_ipynb\n"
     ]
    }
   ],
   "source": [
    "!cd"
   ]
  },
  {
   "cell_type": "code",
   "execution_count": 2,
   "metadata": {},
   "outputs": [],
   "source": [
    "import numpy as np\n",
    "import matplotlib.pyplot as plt\n",
    "import random\n",
    "import tensorflow as tf"
   ]
  },
  {
   "cell_type": "markdown",
   "metadata": {},
   "source": [
    "-------------------------------------------------------------------\n",
    "## 1. Data (mnist)"
   ]
  },
  {
   "cell_type": "code",
   "execution_count": null,
   "metadata": {},
   "outputs": [],
   "source": [
    "from tensorflow.examples.tutorials.mnist import input_data\n",
    "mnist = input_data.read_data_sets(r\"C:\\Users\\dahlmoon\\Documents\\GitHub\\tensorflow_ipynb\\MNIST_data\", one_hot=True)"
   ]
  },
  {
   "cell_type": "markdown",
   "metadata": {},
   "source": [
    "-------------------------------------------------------------------------\n",
    "## 2. Simple Layer\n",
    "\n",
    "### 2-1. Hyper-parameter"
   ]
  },
  {
   "cell_type": "code",
   "execution_count": 3,
   "metadata": {
    "collapsed": true
   },
   "outputs": [],
   "source": [
    "training_epochs = 25\n",
    "batch_size      = 100\n",
    "learning_rate   = 0.001\n",
    "display_step    = 1"
   ]
  },
  {
   "cell_type": "markdown",
   "metadata": {},
   "source": [
    "### 2-2. Input"
   ]
  },
  {
   "cell_type": "code",
   "execution_count": 6,
   "metadata": {},
   "outputs": [],
   "source": [
    "# 28 * 28 = 784\n",
    "x = tf.placeholder(\"float\", [None, 784])\n",
    "# 0부터 9까지\n",
    "y = tf.placeholder(\"float\", [None, 10])\n",
    "\n",
    "W = tf.Variable(tf.zeros([784, 10]))\n",
    "b = tf.Variable(tf.zeros([10]))"
   ]
  },
  {
   "cell_type": "markdown",
   "metadata": {},
   "source": [
    "### 2-3. Optimization"
   ]
  },
  {
   "cell_type": "code",
   "execution_count": 8,
   "metadata": {
    "collapsed": true
   },
   "outputs": [],
   "source": [
    "activation = tf.nn.softmax(tf.matmul(x, W) + b)\n",
    "cost       = tf.reduce_mean(-tf.reduce_sum(y*tf.log(activation), reduction_indices = 1))\n",
    "optimizer  = tf.train.GradientDescentOptimizer(learning_rate).minimize(cost)"
   ]
  },
  {
   "cell_type": "markdown",
   "metadata": {},
   "source": [
    "### 2-4. tf.Session"
   ]
  },
  {
   "cell_type": "code",
   "execution_count": 9,
   "metadata": {},
   "outputs": [
    {
     "name": "stdout",
     "output_type": "stream",
     "text": [
      "Epoch:  0001 cost:  2.045378387\n",
      "Epoch:  0002 cost:  1.654294074\n",
      "Epoch:  0003 cost:  1.394511520\n",
      "Epoch:  0004 cost:  1.217134350\n",
      "Epoch:  0005 cost:  1.091297661\n",
      "Epoch:  0006 cost:  0.998292254\n",
      "Epoch:  0007 cost:  0.926990304\n",
      "Epoch:  0008 cost:  0.870779896\n",
      "Epoch:  0009 cost:  0.825022788\n",
      "Epoch:  0010 cost:  0.787278726\n",
      "Epoch:  0011 cost:  0.755129359\n",
      "Epoch:  0012 cost:  0.727574588\n",
      "Epoch:  0013 cost:  0.704276162\n",
      "Epoch:  0014 cost:  0.683586085\n",
      "Epoch:  0015 cost:  0.664747901\n",
      "Epoch:  0016 cost:  0.648580303\n",
      "Epoch:  0017 cost:  0.633741009\n",
      "Epoch:  0018 cost:  0.620862754\n",
      "Epoch:  0019 cost:  0.608388061\n",
      "Epoch:  0020 cost:  0.597170247\n",
      "Epoch:  0021 cost:  0.587466889\n",
      "Epoch:  0022 cost:  0.577892078\n",
      "Epoch:  0023 cost:  0.569019603\n",
      "Epoch:  0024 cost:  0.561268799\n",
      "Epoch:  0025 cost:  0.553920578\n",
      "Optimization DONE!\n",
      "==========================================================\n",
      "Accuracy:  0.8782\n",
      "==========================================================\n",
      "Label:  [7]\n",
      "Predict:  [7]\n"
     ]
    },
    {
     "data": {
      "image/png": "[encoded data removed]",
      "text/plain": [
       "<matplotlib.figure.Figure at 0xc676278>"
      ]
     },
     "metadata": {},
     "output_type": "display_data"
    }
   ],
   "source": [
    "init = tf.global_variables_initializer()\n",
    "\n",
    "with tf.Session() as sess:\n",
    "    sess.run(init)\n",
    "\n",
    "    for epoch in range(training_epochs):\n",
    "        ## mini batch\n",
    "        avg_cost = 0.\n",
    "        total_batch = int(mnist.train.num_examples / batch_size)\n",
    "\n",
    "        ## mini batch training\n",
    "        for i in range(total_batch):\n",
    "            batch_xs, batch_ys = mnist.train.next_batch(batch_size)\n",
    "            sess.run(optimizer, feed_dict = {x:batch_xs, y:batch_ys})\n",
    "            avg_cost += sess.run(cost, feed_dict = {x:batch_xs, y:batch_ys}) / total_batch\n",
    "\n",
    "        ## log print\n",
    "        if epoch % display_step == 0:\n",
    "            print(\"Epoch: \", '%04d' % (epoch + 1), \"cost: \", \"{:.9f}\".format(avg_cost))\n",
    "\n",
    "    print(\"Optimization DONE!\")\n",
    "    print(\"==========================================================\")\n",
    "\n",
    "    \n",
    "    ## test\n",
    "    correct_prediction = tf.equal(tf.argmax(activation, 1), tf.argmax(y, 1))\n",
    "    accuracy = tf.reduce_mean(tf.cast(correct_prediction, \"float\")) ## cast: same shape as x\n",
    "    print(\"Accuracy: \", accuracy.eval({x: mnist.test.images, y:mnist.test.labels}))\n",
    "    print(\"==========================================================\")\n",
    "\n",
    "    \n",
    "    ## predict\n",
    "    r = random.SystemRandom().randint(0, mnist.test.num_examples -1) ## indx random search\n",
    "\n",
    "    print(\"Label: \",   sess.run(tf.argmax(mnist.test.labels[r:r+1], 1)))                ## Label:   [2]\n",
    "    print(\"Predict: \", sess.run(tf.argmax(activation,1), {x:mnist.test.images[r:r+1]})) ## Predict: [2]\n",
    "\n",
    "    \n",
    "    ## plot\n",
    "    plt.imshow(mnist.test.images[r:r+1].reshape(28, 28), cmap = 'gray', interpolation = 'nearest')\n",
    "    plt.show()"
   ]
  },
  {
   "cell_type": "markdown",
   "metadata": {},
   "source": [
    "--------------------------------------------------------------------------------\n",
    "\n",
    "*End of Code*"
   ]
  }
 ],
 "metadata": {
  "kernelspec": {
   "display_name": "Python 3",
   "language": "python",
   "name": "python3"
  },
  "language_info": {
   "codemirror_mode": {
    "name": "ipython",
    "version": 3
   },
   "file_extension": ".py",
   "mimetype": "text/x-python",
   "name": "python",
   "nbconvert_exporter": "python",
   "pygments_lexer": "ipython3",
   "version": "3.6.8"
  }
 },
 "nbformat": 4,
 "nbformat_minor": 2
}
