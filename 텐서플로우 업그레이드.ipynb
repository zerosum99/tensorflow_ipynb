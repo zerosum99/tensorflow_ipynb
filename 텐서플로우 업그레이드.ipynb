{
 "cells": [
  {
   "cell_type": "code",
   "execution_count": 1,
   "metadata": {},
   "outputs": [
    {
     "name": "stdout",
     "output_type": "stream",
     "text": [
      "Collecting tensorflow\n",
      "  Downloading tensorflow-1.3.0-cp36-cp36m-macosx_10_11_x86_64.whl (39.8MB)\n",
      "\u001b[K    100% |████████████████████████████████| 39.8MB 21kB/s eta 0:00:01\n",
      "\u001b[?25hRequirement already up-to-date: six>=1.10.0 in /Users/dahlmoon/anaconda/lib/python3.6/site-packages (from tensorflow)\n",
      "Collecting protobuf>=3.3.0 (from tensorflow)\n",
      "  Downloading protobuf-3.4.0-py2.py3-none-any.whl (375kB)\n",
      "\u001b[K    100% |████████████████████████████████| 378kB 1.1MB/s ta 0:00:01\n",
      "\u001b[?25hRequirement already up-to-date: numpy>=1.11.0 in /Users/dahlmoon/anaconda/lib/python3.6/site-packages (from tensorflow)\n",
      "Collecting tensorflow-tensorboard<0.2.0,>=0.1.0 (from tensorflow)\n",
      "  Downloading tensorflow_tensorboard-0.1.8-py3-none-any.whl (1.6MB)\n",
      "\u001b[K    100% |████████████████████████████████| 1.6MB 413kB/s ta 0:00:01\n",
      "\u001b[?25hCollecting wheel>=0.26 (from tensorflow)\n",
      "  Downloading wheel-0.30.0-py2.py3-none-any.whl (49kB)\n",
      "\u001b[K    100% |████████████████████████████████| 51kB 1.8MB/s ta 0:00:01\n",
      "\u001b[?25hRequirement already up-to-date: setuptools in /Users/dahlmoon/anaconda/lib/python3.6/site-packages (from protobuf>=3.3.0->tensorflow)\n",
      "Collecting markdown>=2.6.8 (from tensorflow-tensorboard<0.2.0,>=0.1.0->tensorflow)\n",
      "  Downloading Markdown-2.6.9.tar.gz (271kB)\n",
      "\u001b[K    100% |████████████████████████████████| 276kB 1.2MB/s ta 0:00:01\n",
      "\u001b[?25hRequirement already up-to-date: bleach==1.5.0 in /Users/dahlmoon/anaconda/lib/python3.6/site-packages (from tensorflow-tensorboard<0.2.0,>=0.1.0->tensorflow)\n",
      "Collecting html5lib==0.9999999 (from tensorflow-tensorboard<0.2.0,>=0.1.0->tensorflow)\n",
      "  Downloading html5lib-0.9999999.tar.gz (889kB)\n",
      "\u001b[K    100% |████████████████████████████████| 890kB 639kB/s ta 0:00:01\n",
      "\u001b[?25hRequirement already up-to-date: werkzeug>=0.11.10 in /Users/dahlmoon/anaconda/lib/python3.6/site-packages (from tensorflow-tensorboard<0.2.0,>=0.1.0->tensorflow)\n",
      "Building wheels for collected packages: markdown, html5lib\n",
      "  Running setup.py bdist_wheel for markdown ... \u001b[?25ldone\n",
      "\u001b[?25h  Stored in directory: /Users/dahlmoon/Library/Caches/pip/wheels/bf/46/10/c93e17ae86ae3b3a919c7b39dad3b5ccf09aeb066419e5c1e5\n",
      "  Running setup.py bdist_wheel for html5lib ... \u001b[?25ldone\n",
      "\u001b[?25h  Stored in directory: /Users/dahlmoon/Library/Caches/pip/wheels/6f/85/6c/56b8e1292c6214c4eb73b9dda50f53e8e977bf65989373c962\n",
      "Successfully built markdown html5lib\n",
      "Installing collected packages: protobuf, markdown, html5lib, wheel, tensorflow-tensorboard, tensorflow\n",
      "  Found existing installation: protobuf 3.3.0\n",
      "    Uninstalling protobuf-3.3.0:\n",
      "      Successfully uninstalled protobuf-3.3.0\n",
      "  Found existing installation: Markdown 2.6.8\n",
      "    Uninstalling Markdown-2.6.8:\n",
      "      Successfully uninstalled Markdown-2.6.8\n",
      "  Found existing installation: html5lib 0.999999999\n",
      "    Uninstalling html5lib-0.999999999:\n",
      "      Successfully uninstalled html5lib-0.999999999\n",
      "  Found existing installation: wheel 0.29.0\n",
      "    Uninstalling wheel-0.29.0:\n",
      "      Successfully uninstalled wheel-0.29.0\n",
      "  Found existing installation: tensorflow 1.2.1\n",
      "    Uninstalling tensorflow-1.2.1:\n",
      "      Successfully uninstalled tensorflow-1.2.1\n",
      "Successfully installed html5lib-0.9999999 markdown-2.6.9 protobuf-3.4.0 tensorflow-1.3.0 tensorflow-tensorboard-0.1.8 wheel-0.30.0\n"
     ]
    }
   ],
   "source": [
    "!pip install --upgrade tensorflow"
   ]
  },
  {
   "cell_type": "code",
   "execution_count": 2,
   "metadata": {},
   "outputs": [
    {
     "name": "stdout",
     "output_type": "stream",
     "text": [
      "Requirement already up-to-date: numpy in /Users/dahlmoon/anaconda/lib/python3.6/site-packages\n",
      "Collecting matplotlib\n",
      "  Downloading matplotlib-2.1.0-cp36-cp36m-macosx_10_6_intel.macosx_10_9_intel.macosx_10_9_x86_64.macosx_10_10_intel.macosx_10_10_x86_64.whl (13.2MB)\n",
      "\u001b[K    100% |████████████████████████████████| 13.2MB 63kB/s eta 0:00:01\n",
      "\u001b[?25hCollecting pillow\n",
      "  Downloading Pillow-4.3.0-cp36-cp36m-macosx_10_6_intel.macosx_10_9_intel.macosx_10_9_x86_64.macosx_10_10_intel.macosx_10_10_x86_64.whl (3.5MB)\n",
      "\u001b[K    100% |████████████████████████████████| 3.6MB 212kB/s ta 0:00:01\n",
      "\u001b[?25hRequirement already up-to-date: pyparsing!=2.0.4,!=2.1.2,!=2.1.6,>=2.0.1 in /Users/dahlmoon/anaconda/lib/python3.6/site-packages (from matplotlib)\n",
      "Requirement already up-to-date: python-dateutil>=2.0 in /Users/dahlmoon/anaconda/lib/python3.6/site-packages (from matplotlib)\n",
      "Requirement already up-to-date: pytz in /Users/dahlmoon/anaconda/lib/python3.6/site-packages (from matplotlib)\n",
      "Requirement already up-to-date: cycler>=0.10 in /Users/dahlmoon/anaconda/lib/python3.6/site-packages (from matplotlib)\n",
      "Requirement already up-to-date: six>=1.10 in /Users/dahlmoon/anaconda/lib/python3.6/site-packages (from matplotlib)\n",
      "Requirement already up-to-date: olefile in /Users/dahlmoon/anaconda/lib/python3.6/site-packages (from pillow)\n",
      "Installing collected packages: matplotlib, pillow\n",
      "  Found existing installation: matplotlib 2.0.2\n",
      "    Uninstalling matplotlib-2.0.2:\n",
      "      Successfully uninstalled matplotlib-2.0.2\n",
      "  Found existing installation: Pillow 4.2.1\n",
      "    Uninstalling Pillow-4.2.1:\n",
      "      Successfully uninstalled Pillow-4.2.1\n",
      "Successfully installed matplotlib-2.1.0 pillow-4.3.0\n"
     ]
    }
   ],
   "source": [
    "!pip install numpy matplotlib pillow --upgrade"
   ]
  },
  {
   "cell_type": "markdown",
   "metadata": {},
   "source": [
    "## 텐서플로우 버전 확인하기 "
   ]
  },
  {
   "cell_type": "code",
   "execution_count": 3,
   "metadata": {
    "collapsed": true
   },
   "outputs": [],
   "source": [
    "import tensorflow as tf"
   ]
  },
  {
   "cell_type": "code",
   "execution_count": 4,
   "metadata": {},
   "outputs": [
    {
     "data": {
      "text/plain": [
       "'1.3.0'"
      ]
     },
     "execution_count": 4,
     "metadata": {},
     "output_type": "execute_result"
    }
   ],
   "source": [
    "tf.__version__"
   ]
  },
  {
   "cell_type": "code",
   "execution_count": null,
   "metadata": {
    "collapsed": true
   },
   "outputs": [],
   "source": []
  }
 ],
 "metadata": {
  "kernelspec": {
   "display_name": "Python 3",
   "language": "python",
   "name": "python3"
  },
  "language_info": {
   "codemirror_mode": {
    "name": "ipython",
    "version": 3
   },
   "file_extension": ".py",
   "mimetype": "text/x-python",
   "name": "python",
   "nbconvert_exporter": "python",
   "pygments_lexer": "ipython3",
   "version": "3.6.1"
  }
 },
 "nbformat": 4,
 "nbformat_minor": 2
}
