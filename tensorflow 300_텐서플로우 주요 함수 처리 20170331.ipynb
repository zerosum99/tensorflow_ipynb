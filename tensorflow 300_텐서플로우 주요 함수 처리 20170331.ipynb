{
 "cells": [
  {
   "cell_type": "markdown",
   "metadata": {},
   "source": [
    "# 주요 함수들 \n"
   ]
  },
  {
   "cell_type": "code",
   "execution_count": 2,
   "metadata": {
    "collapsed": false
   },
   "outputs": [],
   "source": [
    "import tensorflow as tf\n"
   ]
  },
  {
   "cell_type": "markdown",
   "metadata": {},
   "source": [
    "# 복소수 \n",
    "\n",
    "    tf.complex\n",
    "    tf.conj\n",
    "    tf.imag\n",
    "    tf.real"
   ]
  },
  {
   "cell_type": "code",
   "execution_count": 8,
   "metadata": {
    "collapsed": false
   },
   "outputs": [
    {
     "name": "stdout",
     "output_type": "stream",
     "text": [
      "[ 2.25+4.75j  3.25+5.75j]\n",
      "[ 2.25-4.75j  3.25-5.75j]\n",
      "[ 2.25  3.25]\n",
      "[ 4.75  5.75]\n"
     ]
    }
   ],
   "source": [
    "real = tf.constant([2.25, 3.25], name=\"real\")\n",
    "imag  = tf.constant([4.75, 5.75], name=\"imag\")\n",
    "com = tf.complex(real, imag) \n",
    "\n",
    "with tf.Session() as sess :\n",
    "    print(sess.run(com))\n",
    "    print(sess.run(tf.conj(com)))\n",
    "    print(sess.run(tf.real(com)))\n",
    "    print(sess.run(tf.imag(com)))"
   ]
  },
  {
   "cell_type": "markdown",
   "metadata": {},
   "source": [
    "# Arithmetic Operators\n",
    "\n",
    "    tf.add(x, y, name=None)\n",
    "    tf.sub(x, y, name=None)\n",
    "    tf.mul(x, y, name=None),     tf.scalar_mul(scalar, x)\n",
    "    tf.div(x, y, name=None),         tf.mod(x, y, name=None)\n",
    "    tf.truediv(x, y, name=None),     tf.floordiv(x, y, name=None)\n",
    "    tf.cross(a, b, name=None)"
   ]
  },
  {
   "cell_type": "code",
   "execution_count": 16,
   "metadata": {
    "collapsed": false
   },
   "outputs": [
    {
     "name": "stdout",
     "output_type": "stream",
     "text": [
      "[5 7 9]\n",
      "[-3 -3 -3]\n",
      "[ 4 10 18]\n",
      "[3 6 9]\n",
      "[4 2 2]\n",
      "[0 1 0]\n",
      "[ 4.   2.5  2. ]\n",
      "[4 2 2]\n",
      "[-3  6 -3]\n"
     ]
    }
   ],
   "source": [
    "a = tf.constant([1,2,3])\n",
    "b = tf.constant([4,5,6])\n",
    "\n",
    "add = tf.add(a,b)\n",
    "sub = tf.sub(a,b)\n",
    "mul = tf.mul(a,b)\n",
    "sca = tf.scalar_mul(3,a)\n",
    "\n",
    "div = tf.div(b,a) # 정수 나누기\n",
    "mod = tf.mod(b,a)\n",
    "\n",
    "trdiv = tf.truediv(b,a)\n",
    "fldiv = tf.floordiv(b,a)\n",
    "cro   = tf.cross(a,b)\n",
    "\n",
    "with tf.Session() as sess :\n",
    "    print(add.eval())\n",
    "    print(sub.eval())\n",
    "    print(mul.eval())\n",
    "    print(sca.eval())\n",
    "    print(div.eval())\n",
    "    print(mod.eval())\n",
    "    print(trdiv.eval())\n",
    "    print(fldiv.eval())\n",
    "    \n",
    "    # 벡터곱 처리 [a1b2-a2b1,a3b1-a1b3, a2b3-a3b2 ]\n",
    "    # [5, 12, 12 ] [8,6,15]\n",
    "    print(cro.eval())"
   ]
  },
  {
   "cell_type": "markdown",
   "metadata": {},
   "source": [
    "# Basic Math Functions\n",
    "\n",
    "    tf.reciprocal\n",
    "    tf.square\n",
    "    tf.round\n",
    "    tf.sqrt,     tf.rsqrt\n",
    "    tf.pow,     tf.exp,     tf.expm1\n",
    "    tf.log,tf.log1p\n",
    "    tf.ceil,     tf.floor\n",
    "    tf.maximum, tf.minimum\n",
    "    tf.cos, tf.sin, tf.tan\n",
    "    tf.lbeta\n",
    "    tf.acos, tf.asin, tf.atan\n",
    "    tf.lgamma\n",
    "    tf.digamma\n",
    "    tf.erf, tf.erfc\n",
    "    tf.squared_difference\n",
    "    tf.igamma\n",
    "    tf.igammac\n",
    "    tf.zeta\n",
    "    tf.polygamma\n",
    "    tf.betainc\n",
    "    tf.rint"
   ]
  },
  {
   "cell_type": "markdown",
   "metadata": {},
   "source": [
    "### 리스트 내의 텐서들 값을 더하기 : tf.add_n"
   ]
  },
  {
   "cell_type": "code",
   "execution_count": 20,
   "metadata": {
    "collapsed": false
   },
   "outputs": [
    {
     "name": "stdout",
     "output_type": "stream",
     "text": [
      "[5 7 9]\n"
     ]
    }
   ],
   "source": [
    "a = tf.constant([1,2,3])\n",
    "b = tf.constant([4,5,6])\n",
    "\n",
    "# 텐서를 가진 리스트 처리\n",
    "l =[]\n",
    "l.append(a)\n",
    "l.append(b)\n",
    "addn = tf.add_n(l)\n",
    "\n",
    "with tf.Session() as sess :\n",
    "    print(addn.eval())"
   ]
  },
  {
   "cell_type": "markdown",
   "metadata": {},
   "source": [
    "###  텐서 내의 부호 처리 : sign, negative, abs"
   ]
  },
  {
   "cell_type": "code",
   "execution_count": 29,
   "metadata": {
    "collapsed": false
   },
   "outputs": [
    {
     "name": "stdout",
     "output_type": "stream",
     "text": [
      "[1 2 3]\n",
      "[1 2 3]\n",
      "[-1 -1 -1]\n",
      "[1 1 1]\n",
      "[0 0 0]\n"
     ]
    }
   ],
   "source": [
    "a = tf.constant([-1,-2,-3])\n",
    "b = tf.constant([4,5,6])\n",
    "c = tf.constant([0,0,0])\n",
    "\n",
    "ab = tf.abs(a)\n",
    "neg = tf.negative(a)\n",
    "# 음수이면 -1\n",
    "sig = tf.sign(a)\n",
    "# 양수이면 1\n",
    "sig1 = tf.sign(b)\n",
    "\n",
    "# 0이면 0\n",
    "sig0 = tf.sign(c)\n",
    "\n",
    "with tf.Session() as sess :\n",
    "    print(ab.eval())\n",
    "    print(neg.eval())\n",
    "    print(sig.eval())\n",
    "    print(sig1.eval())\n",
    "    print(sig0.eval())"
   ]
  },
  {
   "cell_type": "markdown",
   "metadata": {},
   "source": [
    "## Matrix Math Functions\n",
    "\n",
    "\n",
    "\n",
    "    tf.matrix_diag\n",
    "    tf.matrix_diag_part\n",
    "    tf.matrix_band_part\n",
    "    tf.matrix_set_diag\n",
    "    tf.matrix_transpose\n",
    "\n",
    "    tf.norm\n",
    "\n",
    "\n",
    "    tf.cholesky\n",
    "    tf.cholesky_solve\n",
    "    tf.matrix_solve\n",
    "    tf.matrix_triangular_solve\n",
    "    tf.matrix_solve_ls\n",
    "    tf.qr\n",
    "    tf.self_adjoint_eig\n",
    "    tf.self_adjoint_eigvals\n",
    "    tf.svd"
   ]
  },
  {
   "cell_type": "code",
   "execution_count": 133,
   "metadata": {
    "collapsed": false
   },
   "outputs": [
    {
     "name": "stdout",
     "output_type": "stream",
     "text": [
      "[[1 2]\n",
      " [3 4]]\n",
      "[[-2.   1. ]\n",
      " [ 1.5 -0.5]]\n",
      "[[  1.00000000e+00   1.11022302e-16]\n",
      " [  0.00000000e+00   1.00000000e+00]]\n"
     ]
    }
   ],
   "source": [
    "import numpy as np\n",
    "\n",
    "a = np.arange(1,5).reshape(2,2)\n",
    "print(a)\n",
    "b = np.linalg.inv(a)\n",
    "print(b)\n",
    "print(a.dot(b))"
   ]
  },
  {
   "cell_type": "markdown",
   "metadata": {},
   "source": [
    "### 행렬식과 역행렬 구하기 \n",
    "\n",
    "    행렬식을 먼저 구해서 0이 아니어야 역행력을 구할 수 있다.\n",
    "    "
   ]
  },
  {
   "cell_type": "code",
   "execution_count": 137,
   "metadata": {
    "collapsed": false,
    "scrolled": false
   },
   "outputs": [
    {
     "name": "stdout",
     "output_type": "stream",
     "text": [
      "[[ 1.  2.]\n",
      " [ 3.  4.]]\n",
      "[2 2]\n",
      "-2.0\n",
      "[[-2.00000024  1.00000012]\n",
      " [ 1.50000012 -0.50000006]]\n",
      "[[-2.   1. ]\n",
      " [ 1.5 -0.5]]\n",
      "[[  1.00000024e+00   0.00000000e+00]\n",
      " [ -1.19209290e-07   1.00000000e+00]]\n"
     ]
    }
   ],
   "source": [
    "import tensorflow as tf\n",
    "import numpy as np\n",
    "\n",
    "x = tf.Variable([[1, 2], [3,4]],dtype=tf.float32)\n",
    "\n",
    "\n",
    "init = tf.global_variables_initializer()\n",
    "sess = tf.Session()\n",
    "sess.run(init)\n",
    "\n",
    "print(sess.run(x))\n",
    "print(sess.run(tf.shape(x)))\n",
    "print(sess.run(tf.matrix_determinant(x)))\n",
    "\n",
    "xi = sess.run(tf.matrix_inverse(x))\n",
    "\n",
    "print(xi)\n",
    "print(np.linalg.inv([[1, 2], [3,4]]))\n",
    "\n",
    "print(sess.run(tf.matmul(xi,x)))\n",
    "\n",
    "\n",
    "sess.close()"
   ]
  },
  {
   "cell_type": "markdown",
   "metadata": {},
   "source": [
    "### 단위 행렬 만들기 "
   ]
  },
  {
   "cell_type": "code",
   "execution_count": 86,
   "metadata": {
    "collapsed": false
   },
   "outputs": [
    {
     "name": "stdout",
     "output_type": "stream",
     "text": [
      "[[ 1.  0.]\n",
      " [ 0.  1.]]\n",
      "[[ 1.  0.  0.]\n",
      " [ 0.  1.  0.]\n",
      " [ 0.  0.  1.]]\n"
     ]
    }
   ],
   "source": [
    "import tensorflow as tf\n",
    "\n",
    "#eye(num_rows, num_columns=None, batch_shape=None, dtype=tf.float32, name=None)\n",
    "\n",
    "sess = tf.Session()\n",
    "print(sess.run(tf.eye(2)))\n",
    "print(sess.run(tf.eye(3,3)))\n",
    "sess.close()"
   ]
  },
  {
   "cell_type": "markdown",
   "metadata": {},
   "source": [
    "### 전치행렬 및 행렬곱(matmul)\n"
   ]
  },
  {
   "cell_type": "code",
   "execution_count": 79,
   "metadata": {
    "collapsed": false
   },
   "outputs": [
    {
     "name": "stdout",
     "output_type": "stream",
     "text": [
      "[[1 2 3]\n",
      " [4 5 6]]\n",
      "[[1 4]\n",
      " [2 5]\n",
      " [3 6]]\n",
      "[[14 32]\n",
      " [32 77]]\n"
     ]
    }
   ],
   "source": [
    "import tensorflow as tf\n",
    "x = tf.constant([[1, 2, 3], [4, 5, 6]])\n",
    "\n",
    "ax = tf.matmul(x,tf.transpose(x))\n",
    "\n",
    "sess = tf.Session()\n",
    "print(sess.run(x))\n",
    "print(sess.run(tf.transpose(x)))\n",
    "\n",
    "print(sess.run(ax))\n",
    "\n",
    "sess.close()"
   ]
  },
  {
   "cell_type": "markdown",
   "metadata": {},
   "source": [
    "### 대각행렬의 합 "
   ]
  },
  {
   "cell_type": "code",
   "execution_count": 80,
   "metadata": {
    "collapsed": false
   },
   "outputs": [
    {
     "name": "stdout",
     "output_type": "stream",
     "text": [
      "[[1 2 3]\n",
      " [4 5 6]\n",
      " [7 8 9]]\n",
      "15\n"
     ]
    }
   ],
   "source": [
    "import tensorflow as tf\n",
    "x = tf.constant([[1, 2, 3], [4, 5, 6],[7,8,9]])\n",
    "\n",
    "\n",
    "sess = tf.Session()\n",
    "print(sess.run(x))\n",
    "print(sess.run(tf.trace(x)))\n",
    "\n",
    "sess.close()"
   ]
  },
  {
   "cell_type": "markdown",
   "metadata": {},
   "source": [
    "### 대각행렬 처리 : diag, 대각행렬 값만 추출 diag_part"
   ]
  },
  {
   "cell_type": "code",
   "execution_count": 35,
   "metadata": {
    "collapsed": false
   },
   "outputs": [
    {
     "name": "stdout",
     "output_type": "stream",
     "text": [
      "[0 1 2 3]\n",
      "[[0 0 0 0]\n",
      " [0 1 0 0]\n",
      " [0 0 2 0]\n",
      " [0 0 0 3]]\n",
      "[0 1 2 3]\n"
     ]
    }
   ],
   "source": [
    "import numpy as np\n",
    "\n",
    "ma = np.arange(4)\n",
    "print(ma)\n",
    "\n",
    "# 특정 벡터의 값을 대각행렬에 세팅\n",
    "diag = tf.diag(ma)\n",
    "\n",
    "with tf.Session() as sess :\n",
    "    print(diag.eval())\n",
    "    print(tf.diag_part(diag.eval()).eval())"
   ]
  },
  {
   "cell_type": "markdown",
   "metadata": {},
   "source": [
    "# Reduction\n",
    "\n",
    "    tf.reduce_logsumexp\n",
    "    tf.einsum"
   ]
  },
  {
   "cell_type": "markdown",
   "metadata": {},
   "source": [
    "###  내부 원소에 대한 합과 곱 : tf.reduce_sum,   tf.reduce_prod\n"
   ]
  },
  {
   "cell_type": "code",
   "execution_count": 38,
   "metadata": {
    "collapsed": false
   },
   "outputs": [
    {
     "name": "stdout",
     "output_type": "stream",
     "text": [
      "-6\n",
      "-6\n"
     ]
    }
   ],
   "source": [
    "\n",
    "a = tf.constant([-1,-2,-3])\n",
    "re_s = tf.reduce_sum(a)\n",
    "re_p = tf.reduce_prod(a)\n",
    "\n",
    "with tf.Session() as sess :\n",
    "    print(re_s.eval())\n",
    "    print(re_p.eval())"
   ]
  },
  {
   "cell_type": "markdown",
   "metadata": {},
   "source": [
    "###  텐서로 구성된 리스트 내의 원소들을 더하기"
   ]
  },
  {
   "cell_type": "code",
   "execution_count": 66,
   "metadata": {
    "collapsed": false
   },
   "outputs": [
    {
     "name": "stdout",
     "output_type": "stream",
     "text": [
      "[-3 -6 -9]\n"
     ]
    }
   ],
   "source": [
    "a = tf.constant([-1,-2,-3])\n",
    "re_s = tf.accumulate_n([a,a,a])\n",
    "\n",
    "\n",
    "with tf.Session() as sess :\n",
    "    print(re_s.eval())\n",
    "   "
   ]
  },
  {
   "cell_type": "markdown",
   "metadata": {},
   "source": [
    "### 원소들에 대한 평균(mean), 원소들이 zero가 아닌 경우 "
   ]
  },
  {
   "cell_type": "code",
   "execution_count": 64,
   "metadata": {
    "collapsed": false
   },
   "outputs": [
    {
     "name": "stdout",
     "output_type": "stream",
     "text": [
      "3\n",
      "1\n"
     ]
    }
   ],
   "source": [
    "a = tf.constant([0,0,0,1,2,3])\n",
    "re_s = tf.count_nonzero(a)\n",
    "re_p = tf.reduce_mean(a)\n",
    "\n",
    "with tf.Session() as sess :\n",
    "    print(re_s.eval())\n",
    "    print(re_p.eval())"
   ]
  },
  {
   "cell_type": "markdown",
   "metadata": {},
   "source": [
    "###  내부 원소들에 대한 min/max\n"
   ]
  },
  {
   "cell_type": "code",
   "execution_count": 60,
   "metadata": {
    "collapsed": false
   },
   "outputs": [
    {
     "name": "stdout",
     "output_type": "stream",
     "text": [
      "-3\n",
      "-1\n"
     ]
    }
   ],
   "source": [
    "a = tf.constant([-1,-2,-3])\n",
    "re_s = tf.reduce_min(a)\n",
    "re_p = tf.reduce_max(a)\n",
    "\n",
    "with tf.Session() as sess :\n",
    "    print(re_s.eval())\n",
    "    print(re_p.eval())"
   ]
  },
  {
   "cell_type": "markdown",
   "metadata": {},
   "source": [
    "### 내부 원소들에 대한 True/False check\n"
   ]
  },
  {
   "cell_type": "code",
   "execution_count": 62,
   "metadata": {
    "collapsed": false
   },
   "outputs": [
    {
     "name": "stdout",
     "output_type": "stream",
     "text": [
      "False\n",
      "True\n"
     ]
    }
   ],
   "source": [
    "a = tf.constant([True,False,True])\n",
    "re_s = tf.reduce_all(a)\n",
    "re_p = tf.reduce_any(a)\n",
    "\n",
    "with tf.Session() as sess :\n",
    "    print(re_s.eval())\n",
    "    print(re_p.eval())"
   ]
  },
  {
   "cell_type": "markdown",
   "metadata": {},
   "source": [
    "# Scan \n",
    "\n",
    "    누적하는 값을 생성\n",
    "\n",
    "    tf.cumsum\n",
    "    tf.cumprod"
   ]
  },
  {
   "cell_type": "code",
   "execution_count": 39,
   "metadata": {
    "collapsed": false
   },
   "outputs": [
    {
     "name": "stdout",
     "output_type": "stream",
     "text": [
      "[-1 -3 -6]\n",
      "[-1  2 -6]\n"
     ]
    }
   ],
   "source": [
    "a = tf.constant([-1,-2,-3])\n",
    "re_s = tf.cumsum(a)\n",
    "re_p = tf.cumprod(a)\n",
    "\n",
    "with tf.Session() as sess :\n",
    "    print(re_s.eval())\n",
    "    print(re_p.eval())"
   ]
  },
  {
   "cell_type": "markdown",
   "metadata": {},
   "source": [
    "# Segment\n",
    "\n",
    "    tf.segment_prod\n",
    "    tf.segment_min\n",
    "    tf.segment_max\n",
    "    tf.segment_mean\n",
    "    tf.unsorted_segment_sum\n",
    "    tf.sparse_segment_sum\n",
    "    tf.sparse_segment_mean\n",
    "    tf.sparse_segment_sqrt_n\n",
    "    "
   ]
  },
  {
   "cell_type": "markdown",
   "metadata": {},
   "source": [
    "### segment id 나누기\n",
    "   \n",
    "    segment_ids = [0,1,1]은 첫번째 와 나머지 합으로 분리 \n",
    "    segment_ids = [0,0,0]은 하나로 합치기\n",
    "    segment_ids = [0,0,1]은 첫번째와 두번째를 합하고  나머지를 분리 \n",
    "    "
   ]
  },
  {
   "cell_type": "code",
   "execution_count": 59,
   "metadata": {
    "collapsed": false
   },
   "outputs": [
    {
     "name": "stdout",
     "output_type": "stream",
     "text": [
      "[[1 2 3 4]\n",
      " [4 4 4 4]]\n",
      "[[5 6 7 8]]\n",
      "[[0 0 0 0]\n",
      " [5 6 7 8]]\n"
     ]
    }
   ],
   "source": [
    "c = tf.constant([[1,2,3,4], [-1,-2,-3,-4], [5,6,7,8]])\n",
    "seg_s = tf.segment_sum(c, tf.constant([0, 1, 1]))\n",
    "seg_s0 = tf.segment_sum(c, tf.constant([0,0,0]))\n",
    "seg_s1 = tf.segment_sum(c, tf.constant([0,0,1]))\n",
    "\n",
    "with tf.Session() as sess :\n",
    "    print(seg_s.eval())\n",
    "    print(seg_s0.eval())\n",
    "    print(seg_s1.eval())"
   ]
  },
  {
   "cell_type": "markdown",
   "metadata": {},
   "source": [
    "# Sequence Comparison and Indexing\n",
    "\n",
    " \n",
    "    tf.setdiff1d\n",
    "    tf.where\n",
    "    tf.edit_distance\n",
    "    tf.invert_permutation"
   ]
  },
  {
   "cell_type": "markdown",
   "metadata": {},
   "source": [
    "###  최소값과 최대값 index 알아보기"
   ]
  },
  {
   "cell_type": "code",
   "execution_count": 73,
   "metadata": {
    "collapsed": false
   },
   "outputs": [
    {
     "name": "stdout",
     "output_type": "stream",
     "text": [
      "[1 1 1 1]\n",
      "[3 0 3]\n"
     ]
    }
   ],
   "source": [
    "c = tf.constant([[1,2,3,4], [-1,-2,-3,-4], [5,6,7,8]])\n",
    "\n",
    "# 열단위로 최소값 \n",
    "seg_min = tf.argmin(c,0) \n",
    "# 행단위로 최대값\n",
    "seg_max = tf.argmax(c,1) \n",
    "\n",
    "with tf.Session() as sess :\n",
    "    print(seg_min.eval())\n",
    "    print(seg_max.eval())"
   ]
  },
  {
   "cell_type": "markdown",
   "metadata": {},
   "source": [
    "### 동일한 원소들을 확인하기"
   ]
  },
  {
   "cell_type": "code",
   "execution_count": 76,
   "metadata": {
    "collapsed": false
   },
   "outputs": [
    {
     "name": "stdout",
     "output_type": "stream",
     "text": [
      "Unique(y=array([1, 3, 4, 5, 7]), idx=array([0, 0, 0, 1, 1, 2, 3, 4]))\n"
     ]
    }
   ],
   "source": [
    "c = tf.constant([1,1,1,3,3,4,5,7])\n",
    "\n",
    "seg_u = tf.unique(c) \n",
    "\n",
    "\n",
    "with tf.Session() as sess :\n",
    "    print(sess.run(seg_u))\n",
    "    "
   ]
  },
  {
   "cell_type": "code",
   "execution_count": null,
   "metadata": {
    "collapsed": true
   },
   "outputs": [],
   "source": []
  }
 ],
 "metadata": {
  "kernelspec": {
   "display_name": "Python [conda root]",
   "language": "python",
   "name": "conda-root-py"
  },
  "language_info": {
   "codemirror_mode": {
    "name": "ipython",
    "version": 3
   },
   "file_extension": ".py",
   "mimetype": "text/x-python",
   "name": "python",
   "nbconvert_exporter": "python",
   "pygments_lexer": "ipython3",
   "version": "3.5.2"
  }
 },
 "nbformat": 4,
 "nbformat_minor": 1
}
